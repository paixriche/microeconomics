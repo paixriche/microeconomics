{
 "cells": [
  {
   "cell_type": "code",
   "execution_count": 3,
   "id": "7a228640",
   "metadata": {},
   "outputs": [],
   "source": [
    "import matplotlib.pyplot as plt"
   ]
  },
  {
   "cell_type": "code",
   "execution_count": 2,
   "id": "95b905b9",
   "metadata": {},
   "outputs": [],
   "source": [
    "supply = [6, 6, 7, 8, 11]\n",
    "demand = [12, 10, 8, 6, 4]"
   ]
  },
  {
   "cell_type": "code",
   "execution_count": 10,
   "id": "2bf6d28b",
   "metadata": {
    "scrolled": false
   },
   "outputs": [
    {
     "ename": "SyntaxError",
     "evalue": "invalid syntax (Temp/ipykernel_4600/1734717424.py, line 1)",
     "output_type": "error",
     "traceback": [
      "\u001b[1;36m  File \u001b[1;32m\"C:\\Users\\fredr\\AppData\\Local\\Temp/ipykernel_4600/1734717424.py\"\u001b[1;36m, line \u001b[1;32m1\u001b[0m\n\u001b[1;33m    plt.bar([0:range(len(supply)], supply))\u001b[0m\n\u001b[1;37m              ^\u001b[0m\n\u001b[1;31mSyntaxError\u001b[0m\u001b[1;31m:\u001b[0m invalid syntax\n"
     ]
    }
   ],
   "source": [
    "plt.bar([0:range(len(supply)], supply))"
   ]
  },
  {
   "cell_type": "code",
   "execution_count": null,
   "id": "ed44f95a",
   "metadata": {},
   "outputs": [],
   "source": [
    "def productionFunction(quanitityOfLabor, totalProduct):\n",
    "    if len(quanitityOfLabor) != len(totalProduct):\n",
    "        #something is off\n",
    "        return 0\n",
    "    marginalProduct = []\n",
    "    for i in range(1, len(quantityOfLabor)):\n",
    "        marginalProduct.append((quantityOfLabor[i]-quantityOfLabor[i-1])/(totalProduct[i]-totalProduct[i-1])\n",
    "    return marginalProduct"
   ]
  },
  {
   "cell_type": "code",
   "execution_count": 11,
   "id": "667aa6c4",
   "metadata": {},
   "outputs": [],
   "source": [
    "def totalCost(quantity, fixedCost, variableCost):\n",
    "    return fixedCost+variableCost*quantity"
   ]
  },
  {
   "cell_type": "code",
   "execution_count": 12,
   "id": "119f276f",
   "metadata": {},
   "outputs": [],
   "source": [
    "def marginalRevenueProduct(marginalRevenue, marginalProduct):\n",
    "    return marginalRevenue*marginalProduct"
   ]
  }
 ],
 "metadata": {
  "kernelspec": {
   "display_name": "Python 3 (ipykernel)",
   "language": "python",
   "name": "python3"
  },
  "language_info": {
   "codemirror_mode": {
    "name": "ipython",
    "version": 3
   },
   "file_extension": ".py",
   "mimetype": "text/x-python",
   "name": "python",
   "nbconvert_exporter": "python",
   "pygments_lexer": "ipython3",
   "version": "3.8.6"
  }
 },
 "nbformat": 4,
 "nbformat_minor": 5
}
