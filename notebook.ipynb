{
 "cells": [
  {
   "cell_type": "code",
   "execution_count": 3,
   "id": "39ae62b9",
   "metadata": {},
   "outputs": [],
   "source": [
    "import matplotlib.pyplot as plt"
   ]
  },
  {
   "cell_type": "code",
   "execution_count": 27,
   "id": "8a14197b",
   "metadata": {},
   "outputs": [],
   "source": [
    "supply_mc = [6, 6, 7, 8, 11]\n",
    "demand_wtp = [12, 10, 8, 6, 4]"
   ]
  },
  {
   "cell_type": "code",
   "execution_count": 28,
   "id": "5d5b32df",
   "metadata": {
    "scrolled": false
   },
   "outputs": [
    {
     "data": {
      "text/plain": [
       "<BarContainer object of 5 artists>"
      ]
     },
     "execution_count": 28,
     "metadata": {},
     "output_type": "execute_result"
    },
    {
     "data": {
      "image/png": "[encoded data removed]",
      "text/plain": [
       "<Figure size 432x288 with 1 Axes>"
      ]
     },
     "metadata": {
      "needs_background": "light"
     },
     "output_type": "display_data"
    }
   ],
   "source": [
    "plt.xlabel('Q')\n",
    "plt.ylabel('MC')\n",
    "plt.bar(list(range(1, len(supply)+1)), supply)"
   ]
  },
  {
   "cell_type": "code",
   "execution_count": null,
   "id": "967252f2",
   "metadata": {},
   "outputs": [],
   "source": [
    "def productionFunction(quanitityOfLabor, totalProduct):\n",
    "    if len(quanitityOfLabor) != len(totalProduct):\n",
    "        #something is off\n",
    "        return 0\n",
    "    marginalProduct = []\n",
    "    for i in range(1, len(quantityOfLabor)):\n",
    "        marginalProduct.append((quantityOfLabor[i]-quantityOfLabor[i-1])/(totalProduct[i]-totalProduct[i-1])\n",
    "    return marginalProduct"
   ]
  },
  {
   "cell_type": "code",
   "execution_count": 11,
   "id": "f55defca",
   "metadata": {},
   "outputs": [],
   "source": [
    "def totalCost(quantity, fixedCost, variableCost):\n",
    "    return fixedCost+variableCost*quantity"
   ]
  },
  {
   "cell_type": "code",
   "execution_count": 12,
   "id": "837ba3e1",
   "metadata": {},
   "outputs": [],
   "source": [
    "def marginalRevenueProduct(marginalRevenue, marginalProduct):\n",
    "    return marginalRevenue*marginalProduct"
   ]
  }
 ],
 "metadata": {
  "kernelspec": {
   "display_name": "Python 3 (ipykernel)",
   "language": "python",
   "name": "python3"
  },
  "language_info": {
   "codemirror_mode": {
    "name": "ipython",
    "version": 3
   },
   "file_extension": ".py",
   "mimetype": "text/x-python",
   "name": "python",
   "nbconvert_exporter": "python",
   "pygments_lexer": "ipython3",
   "version": "3.8.6"
  }
 },
 "nbformat": 4,
 "nbformat_minor": 5
}
